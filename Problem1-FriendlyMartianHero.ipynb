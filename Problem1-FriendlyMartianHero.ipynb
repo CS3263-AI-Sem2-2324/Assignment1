{
 "cells": [
  {
   "attachments": {},
   "cell_type": "markdown",
   "metadata": {
    "tags": []
   },
   "source": [
    "# CS3263 Assignment 1 - Problem 1: Friendly Martian Hero\n",
    "\n",
    "Welcome to the CS3263 Assignment 1 - Problem 1, you will complete the problem in this notebook!\n",
    "\n",
    "* Group Member 1:\n",
    "    - Name:\n",
    "    - Student ID:\n",
    "\n",
    "\n",
    "* Group Member 2:\n",
    "    - Name:\n",
    "    - Student ID:\n"
   ]
  },
  {
   "cell_type": "markdown",
   "metadata": {},
   "source": [
    "## Overview\n",
    "\n",
    "In problem 1, we are going to investigate an important AI paradigm - logical representation and inference. We will develop a knowledge base in first order logic, and draw interesting inferences using Forward Chaining and Backward Chaining algorithms - the foundations of AI rule-based systems that are still very useful in practice.\n",
    "\n",
    "- Constructing sentences using: `expr`\n",
    "- Creating first-order-logic knowledge bases using: `FolKB`\n",
    "- Inference in first order knowledge base\n",
    "    - Unification\n",
    "    - Forward chaining algorithm\n",
    "    - Backward chaining algorithm"
   ]
  },
  {
   "cell_type": "markdown",
   "metadata": {},
   "source": [
    "## Your Tasks\n",
    "\n",
    "You only need to submit the answers to Task 1, Task 2, and Task 3 in this problem 1. (But you will need to work through and understand the whole program to complete the tasks.)\n",
    "\n",
    "You are expected to add your codes **ONLY** in the blocks noted by:\n",
    "\n",
    "```python\n",
    "'''---Your code starts here---'''\n",
    "\n",
    "'''---Your code ends here----'''\n",
    "```\n",
    "\n",
    "Let's start!\n"
   ]
  },
  {
   "cell_type": "markdown",
   "metadata": {},
   "source": [
    "## Programming Environment Setup\n",
    "\n",
    "First, we will set up the programming environment by importing one package included in the Assignment Files."
   ]
  },
  {
   "cell_type": "code",
   "metadata": {
    "tags": []
   },
   "source": [
    "from FAIAss1.aimalogic4e import *"
   ],
   "outputs": [],
   "execution_count": null
  },
  {
   "cell_type": "markdown",
   "metadata": {
    "tags": []
   },
   "source": [
    "Let's go through the basics of the logic module.\n",
    "\n",
    "## `expr`: A Shortcut for Constructing Sentences\n",
    "\n",
    "You can use the function `expr` to specify statements in a knowledge base of first-order logic sentences."
   ]
  },
  {
   "cell_type": "code",
   "metadata": {
    "pycharm": {
     "is_executing": true
    }
   },
   "source": [
    "# Example\n",
    "expr('~(P & Q)  ==>  (~P | ~Q)')"
   ],
   "outputs": [],
   "execution_count": null
  },
  {
   "cell_type": "code",
   "metadata": {},
   "source": [
    "# Example\n",
    "expr(\"(Dog(x) & Owns(Alice, x)) ==> Loves(Alice, x)\")"
   ],
   "outputs": [],
   "execution_count": null
  },
  {
   "cell_type": "code",
   "metadata": {},
   "source": [
    "# Example\n",
    "expr('sqrt(b ** 2 - 4 * a * c)')"
   ],
   "outputs": [],
   "execution_count": null
  },
  {
   "cell_type": "markdown",
   "metadata": {},
   "source": [
    "## `FolKB`: First-Order Logic Knowledge Bases\n",
    "\n",
    "The class `FolKB` can be used to represent a knowledge base of First-order logic sentences. The clauses are first-order definite clauses. We will see how to write such clauses to create a database and query them in the following sections."
   ]
  },
  {
   "cell_type": "markdown",
   "metadata": {},
   "source": [
    "### Mars Adventure KB\n",
    "\n",
    "In this section we create a `FolKB` based on the following paragraph.\n",
    "\n",
    "*A Mars Rover would become a hero if it receives some earthly souvenirs from nice Martians. Mr. Green, a nice Martian (to Rovers), has some earthly souvenirs (some colourful pairs of slippers), and he gave some to the Mars Rover Persy. (Note: If the Martian were not nice, the Rover won't be around to become a \"hero\").*\n",
    "\n",
    "The first step is to extract the facts and convert them into first-order definite clauses. Extracting the facts from data alone is a challenging task. Fortunately, we have a short story and we can do extraction and conversion manually. We'll store the clauses in list aptly named `clauses`."
   ]
  },
  {
   "cell_type": "code",
   "metadata": {},
   "source": [
    "clauses = []"
   ],
   "outputs": [],
   "execution_count": null
  },
  {
   "cell_type": "markdown",
   "metadata": {},
   "source": [
    "Assume the following predicate symbols: \n",
    "\n",
    "* `Hero(x)`: `x` is a Hero (Rover)\n",
    "* `Rover(x)`: `x` is a Rover\n",
    "* `Martian(x)`: `x` is a Martian\n",
    "* `Gives(x, y, z)`: `x` gives `y` to `z` **(Note: order matters in this expression -- assume `x` is a Martian, `y` is a souvenir, and `z` is a Rover here)**\n",
    "* `Souvenir(x)`: `x` is a souvenir\n",
    "* `Slippers(x)`: `x` is a pair of slippers\n",
    "* `Nice(x)`: `x` is (a) Nice (Martian)\n",
    "* `Friend(x, y)`: `x` is friendly to `y` **(Note: order matters in this expression -- assume `x` is a Martian and `y` is a Rover here)**.\n",
    "* `Owns(x, y)`: `x` owns `y` **(Note: order matters in this expression -- assume `x` is a Martian and `y` is a souvenir here)**.\n",
    "\n",
    "Let's now combine them with appropriate variable naming to depict the meaning of the facts to put into the knowledge base."
   ]
  },
  {
   "cell_type": "markdown",
   "metadata": {},
   "source": [
    "We know that:  \n",
    "\n",
    "1. Mr. Green, the Martian is a friend of Persy, the Rover.\n",
    "\n",
    "Represent these individuals using the constant symbols `Green` and `Persy`. The friend relation is shown using the predicate symbol `Friend`.\n",
    "\n",
    "- $\\text{Martian}(\\text{Green})$\n",
    "- $\\text{Rover}(\\text{Persy})$\n",
    "- $\\text{Friend}(\\text{Green}, \\text{Persy})$"
   ]
  },
  {
   "cell_type": "code",
   "metadata": {},
   "source": [
    "clauses.append(expr(\"Martian(Green)\"))\n",
    "clauses.append(expr(\"Rover(Persy)\"))\n",
    "clauses.append(expr(\"Friend(Green, Persy)\"))"
   ],
   "outputs": [],
   "execution_count": null
  },
  {
   "cell_type": "markdown",
   "metadata": {},
   "source": [
    "We also know that:\n",
    "\n",
    "2. Green has some earthly souvenirs\n",
    "\n",
    "This states the existence of some souvenir which is owned by Green. \n",
    "\n",
    "$\\exists x \\text{Owns}(\\text{Green}, x) \\land \\text{Souvenir}(x)$. \n",
    "\n",
    "We invoke existential instantiation to introduce a new constant `S1` which is the souvenir owned by Green.\n",
    "\n",
    "$\\text{Owns}(\\text{Green}, \\text{S1}), \\text{Souvenir}(\\text{S1})$"
   ]
  },
  {
   "cell_type": "code",
   "metadata": {},
   "source": [
    "clauses.append(expr(\"Owns(Green, S1)\"))\n",
    "clauses.append(expr(\"Souvenir(S1)\"))"
   ],
   "outputs": [],
   "execution_count": null
  },
  {
   "cell_type": "markdown",
   "metadata": {},
   "source": [
    "### Task 1: Building the KB \n",
    "\n",
    "Express the rest of the sentences as definite clauses and add to the `clauses` list.\n",
    "\n",
    "**Hints:** Some clauses you may want to include:\n",
    "\n",
    "* $\\text{Souvenir}(x) \\land \\text{Owns}(x, y)\\land \\text{Friend}(x, z) \\implies \\text{Gives}(x, y, z)$\n",
    "* $\\text{Slippers}(x) \\implies \\text{Souvenir}(x)$\n",
    "* $\\text{Martian}(x) \\land \\text{Rover}(y) \\land \\text{Friend}(x, y) \\implies \\text{Nice}(x)$\n"
   ]
  },
  {
   "cell_type": "code",
   "metadata": {
    "pycharm": {
     "is_executing": true
    }
   },
   "source": [
    "# --- Problem 1 Task 1: your code starts here---\n",
    "\n",
    "# clauses.append(expr(\"...\"))\n",
    "\n",
    "# --- Problem 1 Task 1: your code ends here---\n",
    "\n",
    "print(clauses)"
   ],
   "outputs": [],
   "execution_count": null
  },
  {
   "cell_type": "markdown",
   "metadata": {},
   "source": [
    "## Creating the Knowledge Base\n",
    "\n",
    "Now that we have converted the information into first-order definite clauses we can create our first-order logic knowledge base."
   ]
  },
  {
   "cell_type": "code",
   "metadata": {},
   "source": [
    "mars_kb = FolKB(clauses)"
   ],
   "outputs": [],
   "execution_count": null
  },
  {
   "cell_type": "markdown",
   "metadata": {},
   "source": [
    "### Operations on the Knowledge Base\n",
    "\n",
    "You can access the clauses in the `KB` by the following methods: `tell`, `ask`, `ask_generator`, `retract`.\n",
    "\n",
    "Evaluate the following to see the source definitions of the methods. "
   ]
  },
  {
   "cell_type": "code",
   "metadata": {},
   "source": [
    "psource(KB)"
   ],
   "outputs": [],
   "execution_count": null
  },
  {
   "cell_type": "markdown",
   "metadata": {},
   "source": [
    "The `print_kb` helper function shows the content of the KB"
   ]
  },
  {
   "cell_type": "code",
   "metadata": {},
   "source": [
    "def print_kb(kb):\n",
    "    for item in kb.clauses:\n",
    "        print(item)"
   ],
   "outputs": [],
   "execution_count": null
  },
  {
   "cell_type": "code",
   "metadata": {},
   "source": [
    "print_kb(mars_kb)"
   ],
   "outputs": [],
   "execution_count": null
  },
  {
   "cell_type": "markdown",
   "metadata": {},
   "source": [
    "The `subst` helper function substitutes variables with given values in first-order logic statements.\n",
    "This will be useful in later algorithms. Its implementation is quite simple and self-explanatory."
   ]
  },
  {
   "cell_type": "code",
   "metadata": {},
   "source": [
    "psource(subst)"
   ],
   "outputs": [],
   "execution_count": null
  },
  {
   "cell_type": "markdown",
   "metadata": {},
   "source": [
    "Here's an example of how `subst` can be used."
   ]
  },
  {
   "cell_type": "code",
   "metadata": {
    "pycharm": {
     "is_executing": true
    }
   },
   "source": [
    "# Example\n",
    "subst({x: expr('Green'), y: expr('S1')}, expr('Owns(x, y)'))"
   ],
   "outputs": [],
   "execution_count": null
  },
  {
   "cell_type": "markdown",
   "metadata": {},
   "source": [
    "## Inference in First-Order Logic\n",
    "\n",
    "In this section we look at a **forward chaining** and a **backward chaining** algorithm for `FolKB`. Both aforementioned algorithms rely on a process called **unification**, a key component of all first-order inference algorithms."
   ]
  },
  {
   "cell_type": "markdown",
   "metadata": {},
   "source": [
    "### Unification\n",
    "\n",
    "We sometimes require finding substitutions that make different logical expressions look identical. This process, called unification, is done by the `unify` algorithm. It takes as input two sentences and returns a *unifier* for them if one exists. A unifier is a dictionary which stores the substitutions required to make the two sentences identical. It does so by recursively unifying the components of a sentence, where the unification of a variable symbol `var` with a constant symbol `Const` is the mapping `{var: Const}`. Let's look at a few examples."
   ]
  },
  {
   "cell_type": "code",
   "metadata": {
    "pycharm": {
     "is_executing": true
    }
   },
   "source": [
    "# Example\n",
    "unify(expr('x'), 3)"
   ],
   "outputs": [],
   "execution_count": null
  },
  {
   "cell_type": "code",
   "metadata": {
    "pycharm": {
     "is_executing": true
    }
   },
   "source": [
    "# Example\n",
    "unify(expr('A(x)'), expr('A(B)'))"
   ],
   "outputs": [],
   "execution_count": null
  },
  {
   "cell_type": "code",
   "metadata": {
    "pycharm": {
     "is_executing": true
    }
   },
   "source": [
    "# Example\n",
    "unify(expr('Cat(x) & Dog(Dobby)'), expr('Cat(Bella) & Dog(y)'))"
   ],
   "outputs": [],
   "execution_count": null
  },
  {
   "cell_type": "markdown",
   "metadata": {},
   "source": [
    "In cases where there is no possible substitution that unifies the two sentences the function return `None`."
   ]
  },
  {
   "cell_type": "code",
   "metadata": {
    "pycharm": {
     "is_executing": true
    }
   },
   "source": [
    "# Example\n",
    "print(unify(expr('Cat(x)'), expr('Dog(Dobby)')))"
   ],
   "outputs": [],
   "execution_count": null
  },
  {
   "cell_type": "markdown",
   "metadata": {},
   "source": [
    "We also need to take care we do not unintentionally use the same variable name. Unify treats them as **a single variable** which prevents it from taking multiple value."
   ]
  },
  {
   "cell_type": "code",
   "metadata": {
    "pycharm": {
     "is_executing": true
    }
   },
   "source": [
    "# Example\n",
    "print(unify(expr('Cat(x) & Dog(Dobby)'), expr('Cat(Bella) & Dog(x)')))"
   ],
   "outputs": [],
   "execution_count": null
  },
  {
   "cell_type": "markdown",
   "metadata": {},
   "source": [
    "### Forward Chaining Algorithm\n",
    "\n",
    "We consider the simple forward-chaining algorithm. We look at each rule in the knowledge base and see if the premises can be satisfied. This is done by finding a substitution which unifies each of the premise with a clause in the `KB`. If we are able to unify the premises, the conclusion (with the corresponding substitution) is added to the `KB`. This inference process is repeated until either the query can be answered or till no new sentences can be added. We test if the newly added clause unifies with the query in which case the substitution yielded by `unify` is an answer to the query. If we run out of sentences to infer, this means the query was a failure.\n",
    "\n",
    "The function `fol_fc_ask` is a generator which yields all substitutions which validate the query."
   ]
  },
  {
   "cell_type": "code",
   "metadata": {},
   "source": [
    "psource(fol_fc_ask)"
   ],
   "outputs": [],
   "execution_count": null
  },
  {
   "cell_type": "markdown",
   "metadata": {
    "tags": []
   },
   "source": [
    "### Backward Chaining Algorithm\n",
    "\n",
    "This algorithm works backward from the goal, chaining through rules to find known facts that support the proof. Suppose `goal` is the query we want to find the substitution for. We find rules of the form $\\text{lhs} \\implies \\text{goal}$ in the `KB` and try to prove `lhs`. There may be multiple clauses in the `KB` which give multiple `lhs`. It is sufficient to prove only one of these. But to prove a `lhs` all the conjuncts in the `lhs` of the clause must be proved. This makes it similar to *And/Or* search."
   ]
  },
  {
   "cell_type": "markdown",
   "metadata": {
    "collapsed": false,
    "jupyter": {
     "outputs_hidden": false
    }
   },
   "source": [
    "#### Ask\n",
    "\n",
    "The function `fol_bc_ask` is a generator which yields all substitutions which validate the query."
   ]
  },
  {
   "cell_type": "code",
   "metadata": {
    "collapsed": false,
    "jupyter": {
     "outputs_hidden": false
    }
   },
   "source": [
    "psource(fol_bc_ask)"
   ],
   "outputs": [],
   "execution_count": null
  },
  {
   "cell_type": "markdown",
   "metadata": {
    "tags": []
   },
   "source": [
    "#### OR\n",
    "\n",
    "The *OR* part of the algorithm comes from our choice to select any clause of the form $\\text{lhs} \\implies \\text{goal}$. Looking at all rules `lhs` whose `rhs` unify with the `goal`, we yield a substitution which proves all the conjuncts in the `lhs`. We use `parse_definite_clause` to attain `lhs` and `rhs` from a clause of the form $\\text{lhs} \\implies \\text{rhs}$. For atomic facts the `lhs` is an empty list."
   ]
  },
  {
   "cell_type": "code",
   "metadata": {},
   "source": [
    "psource(fol_bc_or)"
   ],
   "outputs": [],
   "execution_count": null
  },
  {
   "cell_type": "markdown",
   "metadata": {},
   "source": [
    "#### AND\n",
    "\n",
    "The *AND* corresponds to proving all the conjuncts in the `lhs`. We need to find a substitution which proves each *and* every clause in the list of conjuncts."
   ]
  },
  {
   "cell_type": "code",
   "metadata": {},
   "source": [
    "psource(fol_bc_and)"
   ],
   "outputs": [],
   "execution_count": null
  },
  {
   "cell_type": "markdown",
   "metadata": {
    "tags": []
   },
   "source": [
    "### Task 2: Who Are My Friends? \n",
    "\n",
    "#### Task 2-1: Add Good News\n",
    "\n",
    "It's a good day - Persy makes another new friend, Ms. Grassly (He is a Martian, of course)! Add that news to the `mars_kb`.\n",
    "\n",
    "**Hints:** You can use the following functions to access `mars_kb`:\n",
    "\n",
    "* To add an expression to the `KB`:\n",
    "    `<KB>.tell(<expr>)`\n",
    "* To ask about an expression in KB:\n",
    "    ```\n",
    "    answer = <ask_function>(<KB>, <expr>)\n",
    "    ```\n",
    "    where `<ask_function>` is `fol_fc_ask` for forward chaining or `fol_bc_ask` for backward chaining."
   ]
  },
  {
   "cell_type": "code",
   "metadata": {},
   "source": [
    "# Add news to KB:\n",
    "\n",
    "# --- Problem 1 Task 2.1: your code starts here---\n",
    "\n",
    "\n",
    "# --- Problem 1 Task 2.1: your code ends here---\n",
    "\n",
    "print_kb(mars_kb)"
   ],
   "outputs": [],
   "execution_count": null
  },
  {
   "cell_type": "markdown",
   "metadata": {},
   "source": [
    "#### Task 2-2: Find Nice Martians\n",
    "\n",
    "Ask the knowledge base `mars_kb` about all the nice Martians that Persy has met. \n",
    "\n",
    "Explore **both** the forward chaining algorithm `fol_fc_ask` and backward chaining algorithm `fol_bc_ask`.\n",
    "\n",
    "**Please note:** After calling one of the chaining algorithm, you have to **reset** the KB to its \"original state\" as in the problem definition (to remove the added facts, if any), before calling the other to get the \"clean results\" for each round."
   ]
  },
  {
   "cell_type": "code",
   "metadata": {
    "pycharm": {
     "is_executing": true
    }
   },
   "source": [
    "# Forward chaining algorithm:\n",
    "\n",
    "# --- Problem 1 Task 2.2-1: your code starts here---\n",
    "\n",
    "answer_fc = None\n",
    "\n",
    "# --- Problem 1 Task 2.2-1: your code ends here---\n",
    "\n",
    "print(list(answer_fc))"
   ],
   "outputs": [],
   "execution_count": null
  },
  {
   "cell_type": "markdown",
   "metadata": {
    "collapsed": false,
    "jupyter": {
     "outputs_hidden": false
    }
   },
   "source": [
    "After the forward chaining algorithm, we should **refresh the KB** to its original state."
   ]
  },
  {
   "cell_type": "code",
   "metadata": {
    "collapsed": false,
    "jupyter": {
     "outputs_hidden": false
    }
   },
   "source": [
    "mars_kb = FolKB(clauses)"
   ],
   "outputs": [],
   "execution_count": null
  },
  {
   "cell_type": "markdown",
   "metadata": {
    "collapsed": false,
    "jupyter": {
     "outputs_hidden": false
    }
   },
   "source": [
    "Remember to add the news to the KB again."
   ]
  },
  {
   "cell_type": "code",
   "metadata": {
    "collapsed": false,
    "jupyter": {
     "outputs_hidden": false
    }
   },
   "source": [
    "# Add news to KB:\n",
    "\n",
    "# --- Problem 1 Task 2.2-2: your code starts here---\n",
    "\n",
    "\n",
    "# --- Problem 1 Task 2.2-2: your code ends here---\n",
    "\n",
    "print_kb(mars_kb)"
   ],
   "outputs": [],
   "execution_count": null
  },
  {
   "cell_type": "code",
   "metadata": {
    "pycharm": {
     "is_executing": true
    }
   },
   "source": [
    "# Backward chaining algorithm:\n",
    "\n",
    "# --- Problem 1 Task 2.2-2: your code starts here---\n",
    "\n",
    "answer_bc = None\n",
    "\n",
    "# --- Problem 1 Task 2.2-3: your code ends here---\n",
    "\n",
    "print(list(answer_bc))"
   ],
   "outputs": [],
   "execution_count": null
  },
  {
   "cell_type": "markdown",
   "metadata": {},
   "source": [
    "## Task 3: Who is the HERO? \n",
    "\n",
    "The definition of a **Hero** as follows:\n",
    "\n",
    "* The Hero `z` is the Rover `z` who receives souvenir `y` from a **nice** Marian `x`. (i.e., Nice Martian `x` gives the souvenir `y` to Rover `z`, and `z` becomes the Hero.)\n",
    "\n",
    "### Task 3-1: Add Hero Definition\n",
    "\n",
    "Add any additional clause(s) to the `mars_kb` as necessary to define a Hero.\n"
   ]
  },
  {
   "cell_type": "code",
   "metadata": {},
   "source": [
    "# --- Problem 1 Task 3-1: your code starts here---\n",
    "\n",
    "\n",
    "\n",
    "# --- Problem 1 Task 3-1: your code ends here---\n",
    "\n",
    "print_kb(mars_kb)"
   ],
   "outputs": [],
   "execution_count": null
  },
  {
   "cell_type": "markdown",
   "metadata": {},
   "source": [
    "### Task 3-2: Find the Hero\n",
    "\n",
    "Use **both** forward chaining and backward chaining to find out who is the Hero? Similarly, remember to **reset the KB** to its original state before calling the other algorithm."
   ]
  },
  {
   "cell_type": "code",
   "metadata": {},
   "source": [
    "# Find Hero with Forward Chaining and Backward Chaining\n",
    "\n",
    "# --- Problem 1 Task 3-2: your code starts here---\n",
    "\n",
    "answer_fc = None\n",
    "\n",
    "answer_bc = None\n",
    "\n",
    "# --- Problem 1 Task 3-2: your code ends here---\n",
    "\n",
    "print(list(answer_fc))\n",
    "print(list(answer_bc))"
   ],
   "outputs": [],
   "execution_count": null
  },
  {
   "cell_type": "markdown",
   "metadata": {},
   "source": [
    "### Conclusion and Lessons Learned\n",
    "\n",
    "In this problem, we explored two fundamental AI inference techniques: forward chaining and backward chaining, applied within a first-order logic knowledge base. Forward chaining, a data-driven approach, systematically derives new facts, while backward chaining, a goal-driven method, works backward from queries to validate conditions. By comparing both approaches, we gained insights into their efficiency, applicability, and differences in reasoning.\n",
    "\n",
    "We also developed hands-on experience with knowledge representation, unification, and inference rule application. These exercises underscored the importance of structured logical reasoning in AI and demonstrated how rule-based systems can model complex relationships and support automated decision-making."
   ]
  },
  {
   "cell_type": "markdown",
   "metadata": {
    "collapsed": false,
    "jupyter": {
     "outputs_hidden": false
    }
   },
   "source": [
    "## Submission\n",
    "\n",
    "After the completion of the tasks, **copy** your solutions to the `./solution1.py` file indicated by the respective placeholders in the file."
   ]
  },
  {
   "cell_type": "markdown",
   "metadata": {},
   "source": [
    "End of Problem 1."
   ]
  },
  {
   "cell_type": "markdown",
   "metadata": {},
   "source": [
    "### Acknowledgments\n",
    "\n",
    "The programming assignment is adapted from a Jupyter notebook supporting the book *[Artificial Intelligence: A Modern Approach](http://aima.cs.berkeley.edu)*. We make use of the implementations in the [logic.py](https://github.com/aimacode/aima-python/blob/master/logic.py) module,together with some utility functions.  \n",
    "\n",
    "Content adapted from notebook on AIMA website created by [Chirag Vartak](https://github.com/chiragvartak) and [Peter Norvig](https://github.com/norvig)."
   ]
  }
 ],
 "metadata": {
  "kernelspec": {
   "display_name": "Python 3 (ipykernel)",
   "language": "python",
   "name": "python3"
  },
  "language_info": {
   "codemirror_mode": {
    "name": "ipython",
    "version": 3
   },
   "file_extension": ".py",
   "mimetype": "text/x-python",
   "name": "python",
   "nbconvert_exporter": "python",
   "pygments_lexer": "ipython3",
   "version": "3.12.7"
  }
 },
 "nbformat": 4,
 "nbformat_minor": 4
}
